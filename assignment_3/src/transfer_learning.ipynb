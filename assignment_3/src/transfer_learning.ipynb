{
 "cells": [
  {
   "cell_type": "code",
   "execution_count": 14,
   "metadata": {},
   "outputs": [
    {
     "name": "stdout",
     "output_type": "stream",
     "text": [
      "Defaulting to user installation because normal site-packages is not writeable\n",
      "Requirement already satisfied: tensorflow in /home/ucloud/.local/lib/python3.10/site-packages (2.16.1)\n",
      "\u001b[31mERROR: Could not find a version that satisfies the requirement os (from versions: none)\u001b[0m\u001b[31m\n",
      "\u001b[0m\u001b[31mERROR: No matching distribution found for os\u001b[0m\u001b[31m\n",
      "\u001b[0m\n",
      "\u001b[1m[\u001b[0m\u001b[34;49mnotice\u001b[0m\u001b[1;39;49m]\u001b[0m\u001b[39;49m A new release of pip is available: \u001b[0m\u001b[31;49m23.3.2\u001b[0m\u001b[39;49m -> \u001b[0m\u001b[32;49m24.0\u001b[0m\n",
      "\u001b[1m[\u001b[0m\u001b[34;49mnotice\u001b[0m\u001b[1;39;49m]\u001b[0m\u001b[39;49m To update, run: \u001b[0m\u001b[32;49mpip install --upgrade pip\u001b[0m\n",
      "Note: you may need to restart the kernel to use updated packages.\n"
     ]
    }
   ],
   "source": [
    "%pip install tensorflow os pillow"
   ]
  },
  {
   "cell_type": "code",
   "execution_count": 2,
   "metadata": {},
   "outputs": [
    {
     "name": "stderr",
     "output_type": "stream",
     "text": [
      "2024-04-05 15:37:12.105087: I external/local_tsl/tsl/cuda/cudart_stub.cc:32] Could not find cuda drivers on your machine, GPU will not be used.\n",
      "2024-04-05 15:37:12.109335: I external/local_tsl/tsl/cuda/cudart_stub.cc:32] Could not find cuda drivers on your machine, GPU will not be used.\n",
      "2024-04-05 15:37:12.165969: I tensorflow/core/platform/cpu_feature_guard.cc:210] This TensorFlow binary is optimized to use available CPU instructions in performance-critical operations.\n",
      "To enable the following instructions: AVX2 AVX512F FMA, in other operations, rebuild TensorFlow with the appropriate compiler flags.\n",
      "2024-04-05 15:37:13.100576: W tensorflow/compiler/tf2tensorrt/utils/py_utils.cc:38] TF-TRT Warning: Could not find TensorRT\n"
     ]
    }
   ],
   "source": [
    "# tf tools\n",
    "import tensorflow as tf\n",
    "\n",
    "# image processsing\n",
    "from tensorflow.keras.preprocessing.image import (load_img,\n",
    "                                                  img_to_array,\n",
    "                                                  ImageDataGenerator)"
   ]
  },
  {
   "cell_type": "code",
   "execution_count": 15,
   "metadata": {},
   "outputs": [
    {
     "ename": "ImportError",
     "evalue": "Could not import PIL.Image. The use of `load_img` requires PIL.",
     "output_type": "error",
     "traceback": [
      "\u001b[0;31m---------------------------------------------------------------------------\u001b[0m",
      "\u001b[0;31mImportError\u001b[0m                               Traceback (most recent call last)",
      "\u001b[1;32m/work/IdaHeleneDencker#2808/CDS_visual/CDS_vis24/assignment_3/src/transfer_learning.ipynb Cell 3\u001b[0m line \u001b[0;36m1\n\u001b[1;32m     <a href='vscode-notebook-cell://app-5033267-0.cloud.sdu.dk/work/IdaHeleneDencker%232808/CDS_visual/CDS_vis24/assignment_3/src/transfer_learning.ipynb#W0sdnNjb2RlLXJlbW90ZQ%3D%3D?line=12'>13</a>\u001b[0m \u001b[39mfor\u001b[39;00m file \u001b[39min\u001b[39;00m \u001b[39msorted\u001b[39m(os\u001b[39m.\u001b[39mlistdir(filepath)):\n\u001b[1;32m     <a href='vscode-notebook-cell://app-5033267-0.cloud.sdu.dk/work/IdaHeleneDencker%232808/CDS_visual/CDS_vis24/assignment_3/src/transfer_learning.ipynb#W0sdnNjb2RlLXJlbW90ZQ%3D%3D?line=13'>14</a>\u001b[0m         individual_filepath\u001b[39m=\u001b[39m os\u001b[39m.\u001b[39mpath\u001b[39m.\u001b[39mjoin(filepath, file)\n\u001b[0;32m---> <a href='vscode-notebook-cell://app-5033267-0.cloud.sdu.dk/work/IdaHeleneDencker%232808/CDS_visual/CDS_vis24/assignment_3/src/transfer_learning.ipynb#W0sdnNjb2RlLXJlbW90ZQ%3D%3D?line=14'>15</a>\u001b[0m         image \u001b[39m=\u001b[39m load_img(individual_filepath, target_size\u001b[39m=\u001b[39;49m(\u001b[39m224\u001b[39;49m, \u001b[39m224\u001b[39;49m)) \u001b[39m# Read in file\u001b[39;00m\n\u001b[1;32m     <a href='vscode-notebook-cell://app-5033267-0.cloud.sdu.dk/work/IdaHeleneDencker%232808/CDS_visual/CDS_vis24/assignment_3/src/transfer_learning.ipynb#W0sdnNjb2RlLXJlbW90ZQ%3D%3D?line=15'>16</a>\u001b[0m         \u001b[39m#image = img_to_array(image)\u001b[39;00m\n\u001b[1;32m     <a href='vscode-notebook-cell://app-5033267-0.cloud.sdu.dk/work/IdaHeleneDencker%232808/CDS_visual/CDS_vis24/assignment_3/src/transfer_learning.ipynb#W0sdnNjb2RlLXJlbW90ZQ%3D%3D?line=16'>17</a>\u001b[0m         individual_filepath \u001b[39m=\u001b[39m file\u001b[39m.\u001b[39msplit(\u001b[39m\"\u001b[39m\u001b[39m.\u001b[39m\u001b[39m\"\u001b[39m)[\u001b[39m0\u001b[39m] \n",
      "File \u001b[0;32m~/.local/lib/python3.10/site-packages/keras/src/utils/image_utils.py:227\u001b[0m, in \u001b[0;36mload_img\u001b[0;34m(path, color_mode, target_size, interpolation, keep_aspect_ratio)\u001b[0m\n\u001b[1;32m    195\u001b[0m \u001b[39m\u001b[39m\u001b[39m\"\"\"Loads an image into PIL format.\u001b[39;00m\n\u001b[1;32m    196\u001b[0m \n\u001b[1;32m    197\u001b[0m \u001b[39mUsage:\u001b[39;00m\n\u001b[0;32m   (...)\u001b[0m\n\u001b[1;32m    224\u001b[0m \u001b[39m    A PIL Image instance.\u001b[39;00m\n\u001b[1;32m    225\u001b[0m \u001b[39m\"\"\"\u001b[39;00m\n\u001b[1;32m    226\u001b[0m \u001b[39mif\u001b[39;00m pil_image \u001b[39mis\u001b[39;00m \u001b[39mNone\u001b[39;00m:\n\u001b[0;32m--> 227\u001b[0m     \u001b[39mraise\u001b[39;00m \u001b[39mImportError\u001b[39;00m(\n\u001b[1;32m    228\u001b[0m         \u001b[39m\"\u001b[39m\u001b[39mCould not import PIL.Image. The use of `load_img` requires PIL.\u001b[39m\u001b[39m\"\u001b[39m\n\u001b[1;32m    229\u001b[0m     )\n\u001b[1;32m    230\u001b[0m \u001b[39mif\u001b[39;00m \u001b[39misinstance\u001b[39m(path, io\u001b[39m.\u001b[39mBytesIO):\n\u001b[1;32m    231\u001b[0m     img \u001b[39m=\u001b[39m pil_image\u001b[39m.\u001b[39mopen(path)\n",
      "\u001b[0;31mImportError\u001b[0m: Could not import PIL.Image. The use of `load_img` requires PIL."
     ]
    }
   ],
   "source": [
    "import os\n",
    "\n",
    "#idea: loop through each file in each subfolder, save the image in a list e.g. 'list_of_images'\n",
    "#in the same loop save a list of the label for each image e.g. 'list_of_labels'\n",
    "        #e.g. by extracting the string before / e.g. 'email' (using append method)\n",
    "#the list should be of same lengts, merge in the end \n",
    "\n",
    "\n",
    "filepath = os.path.join(\"..\",\n",
    "                        \"..\",\n",
    "                        \"..\",\n",
    "                        \"..\",\n",
    "                        \"..\",\n",
    "                        \"cds-vis-data\",\n",
    "                        \"Tobacco3482\")\n",
    "\n",
    "def load_file_label\n",
    "        for file in sorted(os.listdir(filepath)):\n",
    "\n",
    "                #initialize 2 empty lists\n",
    "                list_of_images= []\n",
    "                list_of_labels=[]\n",
    "\n",
    "\n",
    "                individual_filepath= os.path.join(filepath, file)\n",
    "                image = load_img(individual_filepath, target_size=(224, 224)) # Read in file\n",
    "                \n",
    "\n",
    "                #append image to list_of_images\n",
    "                list_of_images=list_of_images.append(image)\n",
    "\n",
    "                #extract the label for each image\n",
    "                #in individual_filepath extract what is between / and / e.g. /News/\n",
    "                #label= \n",
    "\n",
    "                #append label to list_of_labels\n",
    "                list_of_labels=list_of_labels.append(label)\n",
    "\n",
    "                individual_filepath = file.split(\".\")[0] \n",
    "        return list_of_images, list_of_labels\n",
    "\n",
    "#now merge the 2 lists "
   ]
  }
 ],
 "metadata": {
  "kernelspec": {
   "display_name": "Python 3",
   "language": "python",
   "name": "python3"
  },
  "language_info": {
   "codemirror_mode": {
    "name": "ipython",
    "version": 3
   },
   "file_extension": ".py",
   "mimetype": "text/x-python",
   "name": "python",
   "nbconvert_exporter": "python",
   "pygments_lexer": "ipython3",
   "version": "3.10.12"
  }
 },
 "nbformat": 4,
 "nbformat_minor": 2
}
